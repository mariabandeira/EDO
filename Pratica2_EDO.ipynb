{
  "nbformat": 4,
  "nbformat_minor": 0,
  "metadata": {
    "colab": {
      "provenance": [],
      "authorship_tag": "ABX9TyPELwTurgCzXoBNrq7mOWtO",
      "include_colab_link": true
    },
    "kernelspec": {
      "name": "python3",
      "display_name": "Python 3"
    },
    "language_info": {
      "name": "python"
    }
  },
  "cells": [
    {
      "cell_type": "markdown",
      "metadata": {
        "id": "view-in-github",
        "colab_type": "text"
      },
      "source": [
        "<a href=\"https://colab.research.google.com/github/mariabandeira/EDO/blob/main/Pratica2_EDO.ipynb\" target=\"_parent\"><img src=\"https://colab.research.google.com/assets/colab-badge.svg\" alt=\"Open In Colab\"/></a>"
      ]
    },
    {
      "cell_type": "markdown",
      "source": [
        "# Atividade Prática 2\n",
        "\n",
        "Aluna: Maria Eduarda Bandeira Hora\n",
        "\n",
        "Matrícula: 20220007230\n",
        "\n",
        "Disciplina: Equações Diferenciais Ordinárias"
      ],
      "metadata": {
        "id": "jMn8ckr-jFda"
      }
    },
    {
      "cell_type": "markdown",
      "source": [
        "## Bibliotecas e Funções de Euler e Runge-kutta"
      ],
      "metadata": {
        "id": "I4T2oms-okFC"
      }
    },
    {
      "cell_type": "code",
      "source": [
        "import numpy as np\n",
        "import matplotlib.pyplot as plt\n",
        "import pandas as pd"
      ],
      "metadata": {
        "id": "2UH720p_m3B7"
      },
      "execution_count": 1,
      "outputs": []
    },
    {
      "cell_type": "code",
      "execution_count": 34,
      "metadata": {
        "id": "5_4sw1Qwiu2z"
      },
      "outputs": [],
      "source": [
        "def euler(a, b, m, y0):\n",
        "  h = (b - a)/m\n",
        "  x = a\n",
        "  y = y0\n",
        "  VetX = [x]\n",
        "  VetY = [y]\n",
        "  Fxy = f(x,y)\n",
        "  #print(\"i \\t x \\t y \\t Fxy\")\n",
        "  #print(f\"{0:.3f} \\t {x:.3f} \\t {y:.3f} \\t {Fxy:.3f}\")\n",
        "  for i in range(1, m+1):\n",
        "    x = a + i*h\n",
        "    y = y + h*Fxy\n",
        "    Fxy = f(x,y)\n",
        "    #print(f\"{i:.3f} \\t {x:.3f} \\t {y:.3f} \\t {Fxy:.3f}\")\n",
        "    VetX.append(x)\n",
        "    VetY.append(y)\n",
        "  return VetX, VetY"
      ]
    },
    {
      "cell_type": "code",
      "source": [
        "def euler2(a, b, m, y10, y20):\n",
        "  h = (b - a)/m\n",
        "  x = a\n",
        "  y1 = y10\n",
        "  y2 = y20\n",
        "\n",
        "  VetX = [x]\n",
        "  VetY1 = [y1]\n",
        "  VetY2 = [y2]\n",
        "\n",
        "  F1 = f1(x,y1, y2)\n",
        "  F2 = f2(x,y1, y2)\n",
        "\n",
        "  #print(\"i \\t x \\t y1 \\t y2 \\t f1 \\t f2\")\n",
        "  #print(f\"{0:.2f} \\t {x:.2f} \\t {y1:.2f} \\t {y2:.2f} \\t {F1:.2f} \\t {F2:.2f}\")\n",
        "\n",
        "  for i in range(1, m+1):\n",
        "    x = a + i*h\n",
        "    y1 = y1 + h*F1\n",
        "    y2 = y2 + h*F2\n",
        "    F1 = f1(x,y1,y2)\n",
        "    F2 = f2(x,y1,y2)\n",
        "    #print(f\"{i:.2f} \\t {x:.2f} \\t {y1:.2f} \\t {y2:.2f} \\t {F1:.2f} \\t {F2:.2f}\")\n",
        "    VetX.append(x)\n",
        "    VetY1.append(y1)\n",
        "    VetY2.append(y2)\n",
        "  return VetX, VetY1, VetY2"
      ],
      "metadata": {
        "id": "znaIMrx_jZF7"
      },
      "execution_count": 35,
      "outputs": []
    },
    {
      "cell_type": "code",
      "source": [
        "def runge_kutta(a, b, m, y0):\n",
        "  h = (b - a)/m\n",
        "  xt = a\n",
        "  yt = y0\n",
        "\n",
        "  VetX = [xt]\n",
        "  VetY = [yt]\n",
        "  k1_list, k2_list, k3_list, k4_list = [], [], [], []\n",
        "\n",
        "  #print(\"i \\t x \\t y\")\n",
        "  #print(f\"{0:.2f} \\t {xt:.2f} \\t {yt:.2f}\")\n",
        "  for i in range(1, m+1):\n",
        "    x = xt\n",
        "    y = yt\n",
        "    k1 = f(x, y)\n",
        "    x = xt + h/2\n",
        "    y = yt + (h/2)*k1\n",
        "    k2 = f(x, y)\n",
        "    y = yt + (h/2)*k2\n",
        "    k3 = f(x, y)\n",
        "    x = xt + h\n",
        "    y = yt + h*k3\n",
        "    k4 = f(x, y)\n",
        "    xt = a + i*h\n",
        "    yt = yt + (h/6)*(k1 + 2*(k2 + k3) + k4)\n",
        "\n",
        "    # Armazenar os valores de k\n",
        "    k1_list.append(k1)\n",
        "    k2_list.append(k2)\n",
        "    k3_list.append(k3)\n",
        "    k4_list.append(k4)\n",
        "\n",
        "    #print(f\"{i:.2f} \\t {xt:.2f} \\t {yt:.2f}\")\n",
        "    VetX.append(xt)\n",
        "    VetY.append(yt)\n",
        "\n",
        "  #print(\"\\nTabelas dos valores de k:\")\n",
        "  #print(\"i \\t k1 \\t k2 \\t k3 \\t k4\")\n",
        "  for i in range(m):\n",
        "    k1 = k1_list[i]\n",
        "    k2 = k2_list[i]\n",
        "    k3 = k3_list[i]\n",
        "    k4 = k4_list[i]\n",
        "    #print(f\"{i:.2f} \\t {k1:.2f} \\t {k2:.2f} \\t {k3:.2f} \\t {k4:.2f}\")\n",
        "\n",
        "  return VetX, VetY"
      ],
      "metadata": {
        "id": "9PXljaRtjgzs"
      },
      "execution_count": 36,
      "outputs": []
    },
    {
      "cell_type": "code",
      "source": [
        "def runge_kutta2(a, b, m, y10, y20):\n",
        "  h = (b - a)/m\n",
        "  xt = a\n",
        "  yt1 = y10\n",
        "  yt2 = y20\n",
        "\n",
        "  VetX = [xt]\n",
        "  VetY1 = [yt1]\n",
        "  VetY2 = [yt2]\n",
        "  k1, k2, k3, k4 = [], [], [], []\n",
        "\n",
        "  #print(\"i \\t x \\t y1 \\t y2\")\n",
        "  #print(f\"{0:.2f} \\t {xt:.2f} \\t {yt1:.2f} \\t {yt2:.2f}\")\n",
        "\n",
        "  for i in range(1, m+1):\n",
        "    x = xt\n",
        "    y1 = yt1\n",
        "    y2 = yt2\n",
        "    k11 = f1(x, y1, y2)\n",
        "    k12 = f2(x, y1, y2)\n",
        "    x = xt + h/2\n",
        "    y1 = yt1 + (h/2)*k11\n",
        "    y2 = yt2 + (h/2)*k12\n",
        "    k21 = f1(x, y1, y2)\n",
        "    k22 = f2(x, y1, y2)\n",
        "    y1 = yt1 + (h/2)*k21\n",
        "    y2 = yt2 + (h/2)*k22\n",
        "    k31 = f1(x, y1, y2)\n",
        "    k32 = f2(x, y1, y2)\n",
        "    x = xt + h\n",
        "    y1 = yt1 + h*k31\n",
        "    y2 = yt2 + h*k32\n",
        "    k41 = f1(x, y1, y2)\n",
        "    k42 = f2(x, y1, y2)\n",
        "    xt = a + i*h\n",
        "    yt1 = yt1 + (h/6)*(k11 + 2*(k21 + k31) + k41)\n",
        "    yt2 = yt2 + (h/6)*(k12 + 2*(k22 + k32) + k42)\n",
        "    #print(f\"{i:.2f} \\t {xt:.2f} \\t {yt1:.2f} \\t {yt2:.2f}\")\n",
        "    VetX.append(xt)\n",
        "    VetY1.append(yt1)\n",
        "    VetY2.append(yt2)\n",
        "\n",
        "    # Armazenar os valores de k\n",
        "    k1.append((k11, k12))\n",
        "    k2.append((k21, k22))\n",
        "    k3.append((k31, k32))\n",
        "    k4.append((k41, k42))\n",
        "\n",
        "  # Imprimir tabelas dos valores de k\n",
        "  #print(\"\\nTabelas dos valores de k:\")\n",
        "  #print(\"i \\t k11 \\t k12 \\t k21 \\t k22 \\t k31 \\t k32 \\t k41 \\t k42\")\n",
        "  for i in range(m):\n",
        "      k11, k12 = k1[i]\n",
        "      k21, k22 = k2[i]\n",
        "      k31, k32 = k3[i]\n",
        "      k41, k42 = k4[i]\n",
        "      #print(f\"{i:.2f} \\t {k11:.2f} \\t {k12:.2f} \\t {k21:.2f} \\t {k22:.2f} \\t {k31:.2f} \\t {k32:.2f} \\t {k41:.2f} \\t {k42:.2f}\")\n",
        "\n",
        "  return VetX, VetY1, VetY2"
      ],
      "metadata": {
        "id": "zqHqbGF6jpNd"
      },
      "execution_count": 37,
      "outputs": []
    },
    {
      "cell_type": "markdown",
      "source": [
        "## 1) Método de Adam-Bashforth-Moulton para um PVI com uma EDO;"
      ],
      "metadata": {
        "id": "Y7LpN0eHjCra"
      }
    },
    {
      "cell_type": "code",
      "source": [
        "def adam_bashforth_moulton(a, b, m, y0, n_corr):\n",
        "  h = (b - a)/m\n",
        "  x = a\n",
        "  y = y0\n",
        "\n",
        "  RK_X, RK_Y = runge_kutta(x, b, m, y)\n",
        "\n",
        "  yc = RK_Y[1]\n",
        "\n",
        "  VetX = [x, x+h]\n",
        "  VetYp = [y0, yc]\n",
        "  VetYc = [y0, yc]\n",
        "  func = [f(x, y0), f(x+h, yc)]\n",
        "\n",
        "  for i in range(2, m+1):\n",
        "    x = a + i*h\n",
        "\n",
        "    y = yc + (h/2)* (3* func[i-1] - func[i-2])\n",
        "\n",
        "    VetX.append(x)\n",
        "    VetYp.append(y)\n",
        "\n",
        "    for c in range(0,n_corr):\n",
        "      if c == 0:\n",
        "        func.append(f(x, y))\n",
        "      else:\n",
        "        func[i] = f(x, y)\n",
        "\n",
        "      y = yc + (h/12)* (5* func[i] + 8* func[i-1] - func[i-2])\n",
        "\n",
        "    yc = y\n",
        "    VetYc.append(yc)\n",
        "\n",
        "  print(f\"i \\t x \\t yp \\t yc\")\n",
        "  for i in range(len(VetX)):\n",
        "    print(f\"{i:.2f} \\t {VetX[i]:.2f} \\t {VetYp[i]:.2f} \\t {VetYc[i]:.2f}\")\n",
        "  return VetX, VetYp, VetYc"
      ],
      "metadata": {
        "id": "FVlceYoIDyzd"
      },
      "execution_count": 74,
      "outputs": []
    },
    {
      "cell_type": "code",
      "source": [
        "def f(x, y):\n",
        "  return x - 2*y + 1"
      ],
      "metadata": {
        "id": "JBGOMaCzmk8g"
      },
      "execution_count": 67,
      "outputs": []
    },
    {
      "cell_type": "code",
      "source": [
        "VetX, VetYp, VetYc = adam_bashforth_moulton(0, 0.8, 4, 1, 3)"
      ],
      "metadata": {
        "colab": {
          "base_uri": "https://localhost:8080/"
        },
        "id": "msUfWbx57uuy",
        "outputId": "6259ab9c-fc2a-45f0-a1f6-e4fe34d210a4"
      },
      "execution_count": 75,
      "outputs": [
        {
          "output_type": "stream",
          "name": "stdout",
          "text": [
            "i \t x \t yp \t yc\n",
            "0.00 \t 0.00 \t 1.00 \t 1.00\n",
            "1.00 \t 0.20 \t 0.85 \t 0.85\n",
            "2.00 \t 0.40 \t 0.80 \t 0.79\n",
            "3.00 \t 0.60 \t 0.79 \t 0.78\n",
            "4.00 \t 0.80 \t 0.81 \t 0.80\n"
          ]
        }
      ]
    },
    {
      "cell_type": "code",
      "source": [
        "plt.plot(VetX[0:], VetYc[0:])\n",
        "plt.plot(VetX[0:], VetYc[0:], 'o')\n",
        "plt.xlabel('x')\n",
        "plt.ylabel('y')\n",
        "plt.title('Método de Adam-Bashforth-Moulton')\n",
        "plt.show()"
      ],
      "metadata": {
        "colab": {
          "base_uri": "https://localhost:8080/",
          "height": 472
        },
        "id": "SagniOuICj5r",
        "outputId": "39bba0bd-c2e8-4e11-d0dc-100ee6bd4897"
      },
      "execution_count": 59,
      "outputs": [
        {
          "output_type": "display_data",
          "data": {
            "text/plain": [
              "<Figure size 640x480 with 1 Axes>"
            ],
            "image/png": "[encoded data removed]"
          },
          "metadata": {}
        }
      ]
    },
    {
      "cell_type": "markdown",
      "source": [
        "## 2) Método de Adam-Bashforth-Moulton para um PVI com um sistema de duas EDO’s;"
      ],
      "metadata": {
        "id": "fIPUGTbsjOv-"
      }
    },
    {
      "cell_type": "code",
      "source": [
        "def adam_bashforth_moulton2(a, b, m, y10, y20, n_corr):\n",
        "  h = (b - a)/m\n",
        "  x = a\n",
        "  y1 = y10\n",
        "  y2 = y20\n",
        "\n",
        "  RK_X, RK_Y1, RK_Y2 = runge_kutta2(x, b, m, y1, y2)\n",
        "\n",
        "  y1c = RK_Y1[1]\n",
        "  y2c = RK_Y2[1]\n",
        "\n",
        "  VetX = [x, x+h]\n",
        "  VetY1p = [y10, y1c]\n",
        "  VetY2p = [y20, y2c]\n",
        "  VetY1c = [y10, y1c]\n",
        "  VetY2c = [y20, y2c]\n",
        "  f1 = [f(x, y10), f(x+h, y1c)]\n",
        "  f2 = [f(x, y20), f(x+h, y2c)]\n",
        "\n",
        "  for i in range(2, m+1):\n",
        "    x = a + i*h\n",
        "\n",
        "    y1 = y1c + (h/2)* (3* f1[i-1] - f1[i-2])\n",
        "    y2 = y2c + (h/2)* (3* f2[i-1] - f2[i-2])\n",
        "\n",
        "    VetX.append(x)\n",
        "    VetY1p.append(y1)\n",
        "    VetY2p.append(y2)\n",
        "\n",
        "    for c in range(0,n_corr):\n",
        "      if c == 0:\n",
        "        f1.append(f(x, y1))\n",
        "        f2.append(f(x, y2))\n",
        "      else:\n",
        "        f1[i] = f(x, y1)\n",
        "        f2[i] = f(x, y2)\n",
        "\n",
        "      y1 = y1c + (h/12)* (5* f1[i] + 8* f1[i-1] - f1[i-2])\n",
        "      y2 = y2c + (h/12)* (5* f2[i] + 8* f2[i-1] - f2[i-2])\n",
        "\n",
        "    y1c = y1\n",
        "    y2c = y2\n",
        "    VetY1c.append(y1c)\n",
        "    VetY2c.append(y2c)\n",
        "\n",
        "  print(f\"i \\t x \\t y1p \\t y1c \\t y2p \\t y2c\")\n",
        "  for i in range(len(VetX)):\n",
        "    print(f\"{i:.2f} \\t {VetX[i]:.2f} \\t {VetY1p[i]:.2f} \\t {VetY1c[i]:.2f} \\t {VetY2p[i]:.2f} \\t {VetY2c[i]:.2f}\")\n",
        "  return VetX, VetY1p, VetY1c, VetY2p, VetY2c"
      ],
      "metadata": {
        "id": "Ybys-rjFE60g"
      },
      "execution_count": 78,
      "outputs": []
    },
    {
      "cell_type": "code",
      "source": [
        "def f1(x, y1, y2):\n",
        "  return y1*y2 + 1\n",
        "\n",
        "def f2(x, y1, y2):\n",
        "  return y1 - y2"
      ],
      "metadata": {
        "id": "Z9OO8QhIu__V"
      },
      "execution_count": 62,
      "outputs": []
    },
    {
      "cell_type": "code",
      "source": [
        "VetX, VetY1p, VetY1c, VetY2p, VetY2c = adam_bashforth_moulton2(0, 0.6, 3, 1, 1, 1)"
      ],
      "metadata": {
        "colab": {
          "base_uri": "https://localhost:8080/"
        },
        "id": "O9Ko2VSOzJyf",
        "outputId": "37b9d619-e8a7-4d80-e5f2-7d54b7f0af4c"
      },
      "execution_count": 79,
      "outputs": [
        {
          "output_type": "stream",
          "name": "stdout",
          "text": [
            "i \t x \t y1p \t y1c \t y2p \t y2c\n",
            "0.00 \t 0.00 \t 1.00 \t 1.00 \t 1.00 \t 1.00\n",
            "1.00 \t 0.20 \t 1.45 \t 1.45 \t 1.04 \t 1.04\n",
            "2.00 \t 0.40 \t 1.04 \t 1.18 \t 0.88 \t 0.91\n",
            "3.00 \t 0.60 \t 1.15 \t 1.06 \t 0.89 \t 0.86\n"
          ]
        }
      ]
    },
    {
      "cell_type": "code",
      "source": [
        "plt.plot(VetX[0:], VetY1c[0:])\n",
        "plt.plot(VetX[0:], VetY1c[0:], 'o')\n",
        "plt.plot(VetX[0:], VetY2c[0:])\n",
        "plt.plot(VetX[0:], VetY2c[0:], 'o')\n",
        "plt.xlabel('x')\n",
        "plt.ylabel('y')\n",
        "plt.title('Método de Adam-Bashforth-Moulton de duas EDOs')\n",
        "plt.show()"
      ],
      "metadata": {
        "colab": {
          "base_uri": "https://localhost:8080/",
          "height": 472
        },
        "id": "UjwX6gm14ZhC",
        "outputId": "2dcf679c-9aad-4fa4-ef3c-26ce7d89a400"
      },
      "execution_count": 66,
      "outputs": [
        {
          "output_type": "display_data",
          "data": {
            "text/plain": [
              "<Figure size 640x480 with 1 Axes>"
            ],
            "image/png": "[encoded data removed]"
          },
          "metadata": {}
        }
      ]
    }
  ]
}